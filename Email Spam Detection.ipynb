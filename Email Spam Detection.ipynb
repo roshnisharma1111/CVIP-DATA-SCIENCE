{
 "cells": [
  {
   "cell_type": "code",
   "execution_count": 77,
   "id": "70ac1865",
   "metadata": {},
   "outputs": [],
   "source": [
    "import numpy as np\n",
    "import pandas as pd"
   ]
  },
  {
   "cell_type": "code",
   "execution_count": 78,
   "id": "d2df9e49",
   "metadata": {
    "scrolled": true
   },
   "outputs": [],
   "source": [
    "data = pd.read_csv('esd.csv', encoding='ISO-8859-1')\n"
   ]
  },
  {
   "cell_type": "code",
   "execution_count": 79,
   "id": "717dd523",
   "metadata": {},
   "outputs": [
    {
     "data": {
      "text/html": [
       "<div>\n",
       "<style scoped>\n",
       "    .dataframe tbody tr th:only-of-type {\n",
       "        vertical-align: middle;\n",
       "    }\n",
       "\n",
       "    .dataframe tbody tr th {\n",
       "        vertical-align: top;\n",
       "    }\n",
       "\n",
       "    .dataframe thead th {\n",
       "        text-align: right;\n",
       "    }\n",
       "</style>\n",
       "<table border=\"1\" class=\"dataframe\">\n",
       "  <thead>\n",
       "    <tr style=\"text-align: right;\">\n",
       "      <th></th>\n",
       "      <th>v1</th>\n",
       "      <th>v2</th>\n",
       "      <th>Unnamed: 2</th>\n",
       "      <th>Unnamed: 3</th>\n",
       "      <th>Unnamed: 4</th>\n",
       "    </tr>\n",
       "  </thead>\n",
       "  <tbody>\n",
       "    <tr>\n",
       "      <th>397</th>\n",
       "      <td>ham</td>\n",
       "      <td>You are always putting your business out there...</td>\n",
       "      <td>NaN</td>\n",
       "      <td>NaN</td>\n",
       "      <td>NaN</td>\n",
       "    </tr>\n",
       "    <tr>\n",
       "      <th>5070</th>\n",
       "      <td>ham</td>\n",
       "      <td>As in different styles?</td>\n",
       "      <td>NaN</td>\n",
       "      <td>NaN</td>\n",
       "      <td>NaN</td>\n",
       "    </tr>\n",
       "    <tr>\n",
       "      <th>3614</th>\n",
       "      <td>ham</td>\n",
       "      <td>I enjoy watching and playing football and bask...</td>\n",
       "      <td>NaN</td>\n",
       "      <td>NaN</td>\n",
       "      <td>NaN</td>\n",
       "    </tr>\n",
       "    <tr>\n",
       "      <th>2755</th>\n",
       "      <td>ham</td>\n",
       "      <td>We r outside already.</td>\n",
       "      <td>NaN</td>\n",
       "      <td>NaN</td>\n",
       "      <td>NaN</td>\n",
       "    </tr>\n",
       "    <tr>\n",
       "      <th>600</th>\n",
       "      <td>ham</td>\n",
       "      <td>Mind blastin.. No more Tsunamis will occur fro...</td>\n",
       "      <td>NaN</td>\n",
       "      <td>NaN</td>\n",
       "      <td>NaN</td>\n",
       "    </tr>\n",
       "  </tbody>\n",
       "</table>\n",
       "</div>"
      ],
      "text/plain": [
       "       v1                                                 v2 Unnamed: 2  \\\n",
       "397   ham  You are always putting your business out there...        NaN   \n",
       "5070  ham                            As in different styles?        NaN   \n",
       "3614  ham  I enjoy watching and playing football and bask...        NaN   \n",
       "2755  ham                              We r outside already.        NaN   \n",
       "600   ham  Mind blastin.. No more Tsunamis will occur fro...        NaN   \n",
       "\n",
       "     Unnamed: 3 Unnamed: 4  \n",
       "397         NaN        NaN  \n",
       "5070        NaN        NaN  \n",
       "3614        NaN        NaN  \n",
       "2755        NaN        NaN  \n",
       "600         NaN        NaN  "
      ]
     },
     "execution_count": 79,
     "metadata": {},
     "output_type": "execute_result"
    }
   ],
   "source": [
    "data.sample(5)\n"
   ]
  },
  {
   "cell_type": "code",
   "execution_count": 80,
   "id": "31be5e69",
   "metadata": {},
   "outputs": [],
   "source": [
    "data_shape = data.shape"
   ]
  },
  {
   "cell_type": "code",
   "execution_count": 81,
   "id": "0a3179ba",
   "metadata": {},
   "outputs": [
    {
     "name": "stdout",
     "output_type": "stream",
     "text": [
      "<class 'pandas.core.frame.DataFrame'>\n",
      "RangeIndex: 5572 entries, 0 to 5571\n",
      "Data columns (total 5 columns):\n",
      " #   Column      Non-Null Count  Dtype \n",
      "---  ------      --------------  ----- \n",
      " 0   v1          5572 non-null   object\n",
      " 1   v2          5572 non-null   object\n",
      " 2   Unnamed: 2  50 non-null     object\n",
      " 3   Unnamed: 3  12 non-null     object\n",
      " 4   Unnamed: 4  6 non-null      object\n",
      "dtypes: object(5)\n",
      "memory usage: 217.8+ KB\n"
     ]
    }
   ],
   "source": [
    "data_info = data.info()\n"
   ]
  },
  {
   "cell_type": "code",
   "execution_count": 82,
   "id": "3442baf2",
   "metadata": {},
   "outputs": [],
   "source": [
    "data.drop(columns=['Unnamed: 2', 'Unnamed: 3', 'Unnamed: 4'], inplace=True)"
   ]
  },
  {
   "cell_type": "code",
   "execution_count": 83,
   "id": "c706b778",
   "metadata": {},
   "outputs": [
    {
     "data": {
      "text/html": [
       "<div>\n",
       "<style scoped>\n",
       "    .dataframe tbody tr th:only-of-type {\n",
       "        vertical-align: middle;\n",
       "    }\n",
       "\n",
       "    .dataframe tbody tr th {\n",
       "        vertical-align: top;\n",
       "    }\n",
       "\n",
       "    .dataframe thead th {\n",
       "        text-align: right;\n",
       "    }\n",
       "</style>\n",
       "<table border=\"1\" class=\"dataframe\">\n",
       "  <thead>\n",
       "    <tr style=\"text-align: right;\">\n",
       "      <th></th>\n",
       "      <th>v1</th>\n",
       "      <th>v2</th>\n",
       "    </tr>\n",
       "  </thead>\n",
       "  <tbody>\n",
       "    <tr>\n",
       "      <th>3534</th>\n",
       "      <td>ham</td>\n",
       "      <td>I'm at home. Please call</td>\n",
       "    </tr>\n",
       "    <tr>\n",
       "      <th>4706</th>\n",
       "      <td>ham</td>\n",
       "      <td>Wif my family booking tour package.</td>\n",
       "    </tr>\n",
       "    <tr>\n",
       "      <th>4426</th>\n",
       "      <td>ham</td>\n",
       "      <td>So what did the bank say about the money?</td>\n",
       "    </tr>\n",
       "    <tr>\n",
       "      <th>655</th>\n",
       "      <td>ham</td>\n",
       "      <td>Tell them the drug dealer's getting impatient</td>\n",
       "    </tr>\n",
       "    <tr>\n",
       "      <th>1177</th>\n",
       "      <td>ham</td>\n",
       "      <td>Just nw i came to hme da..</td>\n",
       "    </tr>\n",
       "  </tbody>\n",
       "</table>\n",
       "</div>"
      ],
      "text/plain": [
       "       v1                                             v2\n",
       "3534  ham                       I'm at home. Please call\n",
       "4706  ham            Wif my family booking tour package.\n",
       "4426  ham      So what did the bank say about the money?\n",
       "655   ham  Tell them the drug dealer's getting impatient\n",
       "1177  ham                     Just nw i came to hme da.."
      ]
     },
     "execution_count": 83,
     "metadata": {},
     "output_type": "execute_result"
    }
   ],
   "source": [
    "data.sample(5)"
   ]
  },
  {
   "cell_type": "code",
   "execution_count": 84,
   "id": "e6bde419",
   "metadata": {},
   "outputs": [
    {
     "data": {
      "text/html": [
       "<div>\n",
       "<style scoped>\n",
       "    .dataframe tbody tr th:only-of-type {\n",
       "        vertical-align: middle;\n",
       "    }\n",
       "\n",
       "    .dataframe tbody tr th {\n",
       "        vertical-align: top;\n",
       "    }\n",
       "\n",
       "    .dataframe thead th {\n",
       "        text-align: right;\n",
       "    }\n",
       "</style>\n",
       "<table border=\"1\" class=\"dataframe\">\n",
       "  <thead>\n",
       "    <tr style=\"text-align: right;\">\n",
       "      <th></th>\n",
       "      <th>target</th>\n",
       "      <th>text</th>\n",
       "    </tr>\n",
       "  </thead>\n",
       "  <tbody>\n",
       "    <tr>\n",
       "      <th>1829</th>\n",
       "      <td>spam</td>\n",
       "      <td>Hottest pics straight to your phone!! See me g...</td>\n",
       "    </tr>\n",
       "    <tr>\n",
       "      <th>2278</th>\n",
       "      <td>ham</td>\n",
       "      <td>Hmm...Bad news...Hype park plaza $700 studio t...</td>\n",
       "    </tr>\n",
       "    <tr>\n",
       "      <th>2515</th>\n",
       "      <td>ham</td>\n",
       "      <td>Bognor it is! Should be splendid at this time ...</td>\n",
       "    </tr>\n",
       "    <tr>\n",
       "      <th>1588</th>\n",
       "      <td>ham</td>\n",
       "      <td>At 4. Let's go to bill millers</td>\n",
       "    </tr>\n",
       "    <tr>\n",
       "      <th>15</th>\n",
       "      <td>spam</td>\n",
       "      <td>XXXMobileMovieClub: To use your credit, click ...</td>\n",
       "    </tr>\n",
       "  </tbody>\n",
       "</table>\n",
       "</div>"
      ],
      "text/plain": [
       "     target                                               text\n",
       "1829   spam  Hottest pics straight to your phone!! See me g...\n",
       "2278    ham  Hmm...Bad news...Hype park plaza $700 studio t...\n",
       "2515    ham  Bognor it is! Should be splendid at this time ...\n",
       "1588    ham                     At 4. Let's go to bill millers\n",
       "15     spam  XXXMobileMovieClub: To use your credit, click ..."
      ]
     },
     "execution_count": 84,
     "metadata": {},
     "output_type": "execute_result"
    }
   ],
   "source": [
    "data.rename(columns={'v1': 'target', 'v2': 'text'}, inplace=True)\n",
    "data.sample(5)"
   ]
  },
  {
   "cell_type": "code",
   "execution_count": 85,
   "id": "b7b7edb7",
   "metadata": {},
   "outputs": [],
   "source": [
    "from sklearn.preprocessing import LabelEncoder\n",
    "encoder = LabelEncoder()"
   ]
  },
  {
   "cell_type": "code",
   "execution_count": 86,
   "id": "0e5938ca",
   "metadata": {},
   "outputs": [],
   "source": [
    "data['target'] = encoder.fit_transform(data['target'])"
   ]
  },
  {
   "cell_type": "code",
   "execution_count": 87,
   "id": "07c0f0d4",
   "metadata": {},
   "outputs": [
    {
     "data": {
      "text/html": [
       "<div>\n",
       "<style scoped>\n",
       "    .dataframe tbody tr th:only-of-type {\n",
       "        vertical-align: middle;\n",
       "    }\n",
       "\n",
       "    .dataframe tbody tr th {\n",
       "        vertical-align: top;\n",
       "    }\n",
       "\n",
       "    .dataframe thead th {\n",
       "        text-align: right;\n",
       "    }\n",
       "</style>\n",
       "<table border=\"1\" class=\"dataframe\">\n",
       "  <thead>\n",
       "    <tr style=\"text-align: right;\">\n",
       "      <th></th>\n",
       "      <th>target</th>\n",
       "      <th>text</th>\n",
       "    </tr>\n",
       "  </thead>\n",
       "  <tbody>\n",
       "    <tr>\n",
       "      <th>0</th>\n",
       "      <td>0</td>\n",
       "      <td>Go until jurong point, crazy.. Available only ...</td>\n",
       "    </tr>\n",
       "    <tr>\n",
       "      <th>1</th>\n",
       "      <td>0</td>\n",
       "      <td>Ok lar... Joking wif u oni...</td>\n",
       "    </tr>\n",
       "    <tr>\n",
       "      <th>2</th>\n",
       "      <td>1</td>\n",
       "      <td>Free entry in 2 a wkly comp to win FA Cup fina...</td>\n",
       "    </tr>\n",
       "    <tr>\n",
       "      <th>3</th>\n",
       "      <td>0</td>\n",
       "      <td>U dun say so early hor... U c already then say...</td>\n",
       "    </tr>\n",
       "    <tr>\n",
       "      <th>4</th>\n",
       "      <td>0</td>\n",
       "      <td>Nah I don't think he goes to usf, he lives aro...</td>\n",
       "    </tr>\n",
       "  </tbody>\n",
       "</table>\n",
       "</div>"
      ],
      "text/plain": [
       "   target                                               text\n",
       "0       0  Go until jurong point, crazy.. Available only ...\n",
       "1       0                      Ok lar... Joking wif u oni...\n",
       "2       1  Free entry in 2 a wkly comp to win FA Cup fina...\n",
       "3       0  U dun say so early hor... U c already then say...\n",
       "4       0  Nah I don't think he goes to usf, he lives aro..."
      ]
     },
     "execution_count": 87,
     "metadata": {},
     "output_type": "execute_result"
    }
   ],
   "source": [
    "data.head()"
   ]
  },
  {
   "cell_type": "code",
   "execution_count": 88,
   "id": "67265ff1",
   "metadata": {},
   "outputs": [
    {
     "data": {
      "text/plain": [
       "target    0\n",
       "text      0\n",
       "dtype: int64"
      ]
     },
     "execution_count": 88,
     "metadata": {},
     "output_type": "execute_result"
    }
   ],
   "source": [
    "data.isnull().sum()"
   ]
  },
  {
   "cell_type": "code",
   "execution_count": 89,
   "id": "51f8641d",
   "metadata": {},
   "outputs": [
    {
     "data": {
      "text/plain": [
       "403"
      ]
     },
     "execution_count": 89,
     "metadata": {},
     "output_type": "execute_result"
    }
   ],
   "source": [
    "data.duplicated().sum()"
   ]
  },
  {
   "cell_type": "code",
   "execution_count": 90,
   "id": "efdb00ee",
   "metadata": {},
   "outputs": [
    {
     "data": {
      "text/plain": [
       "403"
      ]
     },
     "execution_count": 90,
     "metadata": {},
     "output_type": "execute_result"
    }
   ],
   "source": [
    "data.duplicated().sum()"
   ]
  },
  {
   "cell_type": "code",
   "execution_count": 91,
   "id": "5a95d73a",
   "metadata": {},
   "outputs": [
    {
     "data": {
      "text/plain": [
       "(5572, 2)"
      ]
     },
     "execution_count": 91,
     "metadata": {},
     "output_type": "execute_result"
    }
   ],
   "source": [
    "data.shape"
   ]
  },
  {
   "cell_type": "code",
   "execution_count": 92,
   "id": "ce78cebd",
   "metadata": {},
   "outputs": [
    {
     "data": {
      "text/html": [
       "<div>\n",
       "<style scoped>\n",
       "    .dataframe tbody tr th:only-of-type {\n",
       "        vertical-align: middle;\n",
       "    }\n",
       "\n",
       "    .dataframe tbody tr th {\n",
       "        vertical-align: top;\n",
       "    }\n",
       "\n",
       "    .dataframe thead th {\n",
       "        text-align: right;\n",
       "    }\n",
       "</style>\n",
       "<table border=\"1\" class=\"dataframe\">\n",
       "  <thead>\n",
       "    <tr style=\"text-align: right;\">\n",
       "      <th></th>\n",
       "      <th>target</th>\n",
       "      <th>text</th>\n",
       "    </tr>\n",
       "  </thead>\n",
       "  <tbody>\n",
       "    <tr>\n",
       "      <th>0</th>\n",
       "      <td>0</td>\n",
       "      <td>Go until jurong point, crazy.. Available only ...</td>\n",
       "    </tr>\n",
       "    <tr>\n",
       "      <th>1</th>\n",
       "      <td>0</td>\n",
       "      <td>Ok lar... Joking wif u oni...</td>\n",
       "    </tr>\n",
       "    <tr>\n",
       "      <th>2</th>\n",
       "      <td>1</td>\n",
       "      <td>Free entry in 2 a wkly comp to win FA Cup fina...</td>\n",
       "    </tr>\n",
       "    <tr>\n",
       "      <th>3</th>\n",
       "      <td>0</td>\n",
       "      <td>U dun say so early hor... U c already then say...</td>\n",
       "    </tr>\n",
       "    <tr>\n",
       "      <th>4</th>\n",
       "      <td>0</td>\n",
       "      <td>Nah I don't think he goes to usf, he lives aro...</td>\n",
       "    </tr>\n",
       "  </tbody>\n",
       "</table>\n",
       "</div>"
      ],
      "text/plain": [
       "   target                                               text\n",
       "0       0  Go until jurong point, crazy.. Available only ...\n",
       "1       0                      Ok lar... Joking wif u oni...\n",
       "2       1  Free entry in 2 a wkly comp to win FA Cup fina...\n",
       "3       0  U dun say so early hor... U c already then say...\n",
       "4       0  Nah I don't think he goes to usf, he lives aro..."
      ]
     },
     "execution_count": 92,
     "metadata": {},
     "output_type": "execute_result"
    }
   ],
   "source": [
    "data.head()"
   ]
  },
  {
   "cell_type": "code",
   "execution_count": 93,
   "id": "40611c5b",
   "metadata": {},
   "outputs": [
    {
     "data": {
      "text/plain": [
       "0    4825\n",
       "1     747\n",
       "Name: target, dtype: int64"
      ]
     },
     "execution_count": 93,
     "metadata": {},
     "output_type": "execute_result"
    }
   ],
   "source": [
    "data['target'].value_counts()"
   ]
  },
  {
   "cell_type": "code",
   "execution_count": 94,
   "id": "b21e8ab1",
   "metadata": {},
   "outputs": [],
   "source": [
    "import matplotlib.pyplot as plt\n",
    "import seaborn as sns"
   ]
  },
  {
   "cell_type": "code",
   "execution_count": 95,
   "id": "2a58657e",
   "metadata": {},
   "outputs": [
    {
     "data": {
      "image/png": "[encoded data removed]",
      "text/plain": [
       "<Figure size 640x480 with 1 Axes>"
      ]
     },
     "metadata": {},
     "output_type": "display_data"
    }
   ],
   "source": [
    "plt.pie(target_value_counts, labels=['ham', 'spam'], autopct=\"%0.2f\")\n",
    "plt.show()"
   ]
  },
  {
   "cell_type": "code",
   "execution_count": 96,
   "id": "63e9eecc",
   "metadata": {},
   "outputs": [],
   "source": [
    "import nltk"
   ]
  },
  {
   "cell_type": "code",
   "execution_count": 97,
   "id": "6ce938fc",
   "metadata": {},
   "outputs": [
    {
     "name": "stdout",
     "output_type": "stream",
     "text": [
      "Requirement already satisfied: nltk in c:\\users\\lenovo\\anaconda3\\lib\\site-packages (3.8.1)\n",
      "Requirement already satisfied: click in c:\\users\\lenovo\\anaconda3\\lib\\site-packages (from nltk) (8.0.4)\n",
      "Requirement already satisfied: joblib in c:\\users\\lenovo\\anaconda3\\lib\\site-packages (from nltk) (1.2.0)\n",
      "Requirement already satisfied: regex>=2021.8.3 in c:\\users\\lenovo\\anaconda3\\lib\\site-packages (from nltk) (2022.7.9)\n",
      "Requirement already satisfied: tqdm in c:\\users\\lenovo\\anaconda3\\lib\\site-packages (from nltk) (4.65.0)\n",
      "Requirement already satisfied: colorama in c:\\users\\lenovo\\anaconda3\\lib\\site-packages (from click->nltk) (0.4.6)\n"
     ]
    }
   ],
   "source": [
    "!pip install nltk"
   ]
  },
  {
   "cell_type": "code",
   "execution_count": 98,
   "id": "ce19b908",
   "metadata": {},
   "outputs": [
    {
     "name": "stderr",
     "output_type": "stream",
     "text": [
      "[nltk_data] Downloading package punkt to\n",
      "[nltk_data]     C:\\Users\\LENOVO\\AppData\\Roaming\\nltk_data...\n",
      "[nltk_data]   Package punkt is already up-to-date!\n"
     ]
    },
    {
     "data": {
      "text/plain": [
       "True"
      ]
     },
     "execution_count": 98,
     "metadata": {},
     "output_type": "execute_result"
    }
   ],
   "source": [
    "nltk.download('punkt')"
   ]
  },
  {
   "cell_type": "code",
   "execution_count": 99,
   "id": "0bd5cf85",
   "metadata": {},
   "outputs": [],
   "source": [
    "data['num_characters'] = data['text'].apply(len)"
   ]
  },
  {
   "cell_type": "code",
   "execution_count": 100,
   "id": "ffe54f9d",
   "metadata": {},
   "outputs": [
    {
     "data": {
      "text/html": [
       "<div>\n",
       "<style scoped>\n",
       "    .dataframe tbody tr th:only-of-type {\n",
       "        vertical-align: middle;\n",
       "    }\n",
       "\n",
       "    .dataframe tbody tr th {\n",
       "        vertical-align: top;\n",
       "    }\n",
       "\n",
       "    .dataframe thead th {\n",
       "        text-align: right;\n",
       "    }\n",
       "</style>\n",
       "<table border=\"1\" class=\"dataframe\">\n",
       "  <thead>\n",
       "    <tr style=\"text-align: right;\">\n",
       "      <th></th>\n",
       "      <th>target</th>\n",
       "      <th>text</th>\n",
       "      <th>num_characters</th>\n",
       "    </tr>\n",
       "  </thead>\n",
       "  <tbody>\n",
       "    <tr>\n",
       "      <th>0</th>\n",
       "      <td>0</td>\n",
       "      <td>Go until jurong point, crazy.. Available only ...</td>\n",
       "      <td>111</td>\n",
       "    </tr>\n",
       "    <tr>\n",
       "      <th>1</th>\n",
       "      <td>0</td>\n",
       "      <td>Ok lar... Joking wif u oni...</td>\n",
       "      <td>29</td>\n",
       "    </tr>\n",
       "    <tr>\n",
       "      <th>2</th>\n",
       "      <td>1</td>\n",
       "      <td>Free entry in 2 a wkly comp to win FA Cup fina...</td>\n",
       "      <td>155</td>\n",
       "    </tr>\n",
       "    <tr>\n",
       "      <th>3</th>\n",
       "      <td>0</td>\n",
       "      <td>U dun say so early hor... U c already then say...</td>\n",
       "      <td>49</td>\n",
       "    </tr>\n",
       "    <tr>\n",
       "      <th>4</th>\n",
       "      <td>0</td>\n",
       "      <td>Nah I don't think he goes to usf, he lives aro...</td>\n",
       "      <td>61</td>\n",
       "    </tr>\n",
       "  </tbody>\n",
       "</table>\n",
       "</div>"
      ],
      "text/plain": [
       "   target                                               text  num_characters\n",
       "0       0  Go until jurong point, crazy.. Available only ...             111\n",
       "1       0                      Ok lar... Joking wif u oni...              29\n",
       "2       1  Free entry in 2 a wkly comp to win FA Cup fina...             155\n",
       "3       0  U dun say so early hor... U c already then say...              49\n",
       "4       0  Nah I don't think he goes to usf, he lives aro...              61"
      ]
     },
     "execution_count": 100,
     "metadata": {},
     "output_type": "execute_result"
    }
   ],
   "source": [
    "data.head()"
   ]
  },
  {
   "cell_type": "code",
   "execution_count": 101,
   "id": "9fcb823a",
   "metadata": {},
   "outputs": [],
   "source": [
    "data['num_words'] = data['text'].apply(lambda x:len(nltk.word_tokenize(x)))"
   ]
  },
  {
   "cell_type": "code",
   "execution_count": 102,
   "id": "26b4def3",
   "metadata": {},
   "outputs": [
    {
     "data": {
      "text/html": [
       "<div>\n",
       "<style scoped>\n",
       "    .dataframe tbody tr th:only-of-type {\n",
       "        vertical-align: middle;\n",
       "    }\n",
       "\n",
       "    .dataframe tbody tr th {\n",
       "        vertical-align: top;\n",
       "    }\n",
       "\n",
       "    .dataframe thead th {\n",
       "        text-align: right;\n",
       "    }\n",
       "</style>\n",
       "<table border=\"1\" class=\"dataframe\">\n",
       "  <thead>\n",
       "    <tr style=\"text-align: right;\">\n",
       "      <th></th>\n",
       "      <th>target</th>\n",
       "      <th>text</th>\n",
       "      <th>num_characters</th>\n",
       "      <th>num_words</th>\n",
       "    </tr>\n",
       "  </thead>\n",
       "  <tbody>\n",
       "    <tr>\n",
       "      <th>0</th>\n",
       "      <td>0</td>\n",
       "      <td>Go until jurong point, crazy.. Available only ...</td>\n",
       "      <td>111</td>\n",
       "      <td>24</td>\n",
       "    </tr>\n",
       "    <tr>\n",
       "      <th>1</th>\n",
       "      <td>0</td>\n",
       "      <td>Ok lar... Joking wif u oni...</td>\n",
       "      <td>29</td>\n",
       "      <td>8</td>\n",
       "    </tr>\n",
       "    <tr>\n",
       "      <th>2</th>\n",
       "      <td>1</td>\n",
       "      <td>Free entry in 2 a wkly comp to win FA Cup fina...</td>\n",
       "      <td>155</td>\n",
       "      <td>37</td>\n",
       "    </tr>\n",
       "    <tr>\n",
       "      <th>3</th>\n",
       "      <td>0</td>\n",
       "      <td>U dun say so early hor... U c already then say...</td>\n",
       "      <td>49</td>\n",
       "      <td>13</td>\n",
       "    </tr>\n",
       "    <tr>\n",
       "      <th>4</th>\n",
       "      <td>0</td>\n",
       "      <td>Nah I don't think he goes to usf, he lives aro...</td>\n",
       "      <td>61</td>\n",
       "      <td>15</td>\n",
       "    </tr>\n",
       "  </tbody>\n",
       "</table>\n",
       "</div>"
      ],
      "text/plain": [
       "   target                                               text  num_characters  \\\n",
       "0       0  Go until jurong point, crazy.. Available only ...             111   \n",
       "1       0                      Ok lar... Joking wif u oni...              29   \n",
       "2       1  Free entry in 2 a wkly comp to win FA Cup fina...             155   \n",
       "3       0  U dun say so early hor... U c already then say...              49   \n",
       "4       0  Nah I don't think he goes to usf, he lives aro...              61   \n",
       "\n",
       "   num_words  \n",
       "0         24  \n",
       "1          8  \n",
       "2         37  \n",
       "3         13  \n",
       "4         15  "
      ]
     },
     "execution_count": 102,
     "metadata": {},
     "output_type": "execute_result"
    }
   ],
   "source": [
    "data.head()"
   ]
  },
  {
   "cell_type": "code",
   "execution_count": 103,
   "id": "6ae50d6d",
   "metadata": {},
   "outputs": [],
   "source": [
    "data['num_sentences'] = data['text'].apply(lambda x:len(nltk.sent_tokenize(x)))"
   ]
  },
  {
   "cell_type": "code",
   "execution_count": 104,
   "id": "58bdaa77",
   "metadata": {},
   "outputs": [
    {
     "data": {
      "text/html": [
       "<div>\n",
       "<style scoped>\n",
       "    .dataframe tbody tr th:only-of-type {\n",
       "        vertical-align: middle;\n",
       "    }\n",
       "\n",
       "    .dataframe tbody tr th {\n",
       "        vertical-align: top;\n",
       "    }\n",
       "\n",
       "    .dataframe thead th {\n",
       "        text-align: right;\n",
       "    }\n",
       "</style>\n",
       "<table border=\"1\" class=\"dataframe\">\n",
       "  <thead>\n",
       "    <tr style=\"text-align: right;\">\n",
       "      <th></th>\n",
       "      <th>target</th>\n",
       "      <th>text</th>\n",
       "      <th>num_characters</th>\n",
       "      <th>num_words</th>\n",
       "      <th>num_sentences</th>\n",
       "    </tr>\n",
       "  </thead>\n",
       "  <tbody>\n",
       "    <tr>\n",
       "      <th>0</th>\n",
       "      <td>0</td>\n",
       "      <td>Go until jurong point, crazy.. Available only ...</td>\n",
       "      <td>111</td>\n",
       "      <td>24</td>\n",
       "      <td>2</td>\n",
       "    </tr>\n",
       "    <tr>\n",
       "      <th>1</th>\n",
       "      <td>0</td>\n",
       "      <td>Ok lar... Joking wif u oni...</td>\n",
       "      <td>29</td>\n",
       "      <td>8</td>\n",
       "      <td>2</td>\n",
       "    </tr>\n",
       "    <tr>\n",
       "      <th>2</th>\n",
       "      <td>1</td>\n",
       "      <td>Free entry in 2 a wkly comp to win FA Cup fina...</td>\n",
       "      <td>155</td>\n",
       "      <td>37</td>\n",
       "      <td>2</td>\n",
       "    </tr>\n",
       "    <tr>\n",
       "      <th>3</th>\n",
       "      <td>0</td>\n",
       "      <td>U dun say so early hor... U c already then say...</td>\n",
       "      <td>49</td>\n",
       "      <td>13</td>\n",
       "      <td>1</td>\n",
       "    </tr>\n",
       "    <tr>\n",
       "      <th>4</th>\n",
       "      <td>0</td>\n",
       "      <td>Nah I don't think he goes to usf, he lives aro...</td>\n",
       "      <td>61</td>\n",
       "      <td>15</td>\n",
       "      <td>1</td>\n",
       "    </tr>\n",
       "  </tbody>\n",
       "</table>\n",
       "</div>"
      ],
      "text/plain": [
       "   target                                               text  num_characters  \\\n",
       "0       0  Go until jurong point, crazy.. Available only ...             111   \n",
       "1       0                      Ok lar... Joking wif u oni...              29   \n",
       "2       1  Free entry in 2 a wkly comp to win FA Cup fina...             155   \n",
       "3       0  U dun say so early hor... U c already then say...              49   \n",
       "4       0  Nah I don't think he goes to usf, he lives aro...              61   \n",
       "\n",
       "   num_words  num_sentences  \n",
       "0         24              2  \n",
       "1          8              2  \n",
       "2         37              2  \n",
       "3         13              1  \n",
       "4         15              1  "
      ]
     },
     "execution_count": 104,
     "metadata": {},
     "output_type": "execute_result"
    }
   ],
   "source": [
    "data.head()"
   ]
  },
  {
   "cell_type": "code",
   "execution_count": 105,
   "id": "6ba7ea0f",
   "metadata": {},
   "outputs": [
    {
     "data": {
      "text/html": [
       "<div>\n",
       "<style scoped>\n",
       "    .dataframe tbody tr th:only-of-type {\n",
       "        vertical-align: middle;\n",
       "    }\n",
       "\n",
       "    .dataframe tbody tr th {\n",
       "        vertical-align: top;\n",
       "    }\n",
       "\n",
       "    .dataframe thead th {\n",
       "        text-align: right;\n",
       "    }\n",
       "</style>\n",
       "<table border=\"1\" class=\"dataframe\">\n",
       "  <thead>\n",
       "    <tr style=\"text-align: right;\">\n",
       "      <th></th>\n",
       "      <th>num_characters</th>\n",
       "      <th>num_words</th>\n",
       "      <th>num_sentences</th>\n",
       "    </tr>\n",
       "  </thead>\n",
       "  <tbody>\n",
       "    <tr>\n",
       "      <th>count</th>\n",
       "      <td>5572.000000</td>\n",
       "      <td>5572.000000</td>\n",
       "      <td>5572.000000</td>\n",
       "    </tr>\n",
       "    <tr>\n",
       "      <th>mean</th>\n",
       "      <td>80.118808</td>\n",
       "      <td>18.699390</td>\n",
       "      <td>1.996411</td>\n",
       "    </tr>\n",
       "    <tr>\n",
       "      <th>std</th>\n",
       "      <td>59.690841</td>\n",
       "      <td>13.741932</td>\n",
       "      <td>1.520159</td>\n",
       "    </tr>\n",
       "    <tr>\n",
       "      <th>min</th>\n",
       "      <td>2.000000</td>\n",
       "      <td>1.000000</td>\n",
       "      <td>1.000000</td>\n",
       "    </tr>\n",
       "    <tr>\n",
       "      <th>25%</th>\n",
       "      <td>36.000000</td>\n",
       "      <td>9.000000</td>\n",
       "      <td>1.000000</td>\n",
       "    </tr>\n",
       "    <tr>\n",
       "      <th>50%</th>\n",
       "      <td>61.000000</td>\n",
       "      <td>15.000000</td>\n",
       "      <td>1.500000</td>\n",
       "    </tr>\n",
       "    <tr>\n",
       "      <th>75%</th>\n",
       "      <td>121.000000</td>\n",
       "      <td>27.000000</td>\n",
       "      <td>2.000000</td>\n",
       "    </tr>\n",
       "    <tr>\n",
       "      <th>max</th>\n",
       "      <td>910.000000</td>\n",
       "      <td>220.000000</td>\n",
       "      <td>38.000000</td>\n",
       "    </tr>\n",
       "  </tbody>\n",
       "</table>\n",
       "</div>"
      ],
      "text/plain": [
       "       num_characters    num_words  num_sentences\n",
       "count     5572.000000  5572.000000    5572.000000\n",
       "mean        80.118808    18.699390       1.996411\n",
       "std         59.690841    13.741932       1.520159\n",
       "min          2.000000     1.000000       1.000000\n",
       "25%         36.000000     9.000000       1.000000\n",
       "50%         61.000000    15.000000       1.500000\n",
       "75%        121.000000    27.000000       2.000000\n",
       "max        910.000000   220.000000      38.000000"
      ]
     },
     "execution_count": 105,
     "metadata": {},
     "output_type": "execute_result"
    }
   ],
   "source": [
    "data[['num_characters','num_words','num_sentences']].describe()"
   ]
  },
  {
   "cell_type": "code",
   "execution_count": 106,
   "id": "5abb8b4d",
   "metadata": {},
   "outputs": [
    {
     "data": {
      "text/html": [
       "<div>\n",
       "<style scoped>\n",
       "    .dataframe tbody tr th:only-of-type {\n",
       "        vertical-align: middle;\n",
       "    }\n",
       "\n",
       "    .dataframe tbody tr th {\n",
       "        vertical-align: top;\n",
       "    }\n",
       "\n",
       "    .dataframe thead th {\n",
       "        text-align: right;\n",
       "    }\n",
       "</style>\n",
       "<table border=\"1\" class=\"dataframe\">\n",
       "  <thead>\n",
       "    <tr style=\"text-align: right;\">\n",
       "      <th></th>\n",
       "      <th>num_characters</th>\n",
       "      <th>num_words</th>\n",
       "      <th>num_sentences</th>\n",
       "    </tr>\n",
       "  </thead>\n",
       "  <tbody>\n",
       "    <tr>\n",
       "      <th>count</th>\n",
       "      <td>4825.000000</td>\n",
       "      <td>4825.000000</td>\n",
       "      <td>4825.000000</td>\n",
       "    </tr>\n",
       "    <tr>\n",
       "      <th>mean</th>\n",
       "      <td>71.023627</td>\n",
       "      <td>17.276269</td>\n",
       "      <td>1.837720</td>\n",
       "    </tr>\n",
       "    <tr>\n",
       "      <th>std</th>\n",
       "      <td>58.016023</td>\n",
       "      <td>13.988585</td>\n",
       "      <td>1.454388</td>\n",
       "    </tr>\n",
       "    <tr>\n",
       "      <th>min</th>\n",
       "      <td>2.000000</td>\n",
       "      <td>1.000000</td>\n",
       "      <td>1.000000</td>\n",
       "    </tr>\n",
       "    <tr>\n",
       "      <th>25%</th>\n",
       "      <td>33.000000</td>\n",
       "      <td>8.000000</td>\n",
       "      <td>1.000000</td>\n",
       "    </tr>\n",
       "    <tr>\n",
       "      <th>50%</th>\n",
       "      <td>52.000000</td>\n",
       "      <td>13.000000</td>\n",
       "      <td>1.000000</td>\n",
       "    </tr>\n",
       "    <tr>\n",
       "      <th>75%</th>\n",
       "      <td>92.000000</td>\n",
       "      <td>22.000000</td>\n",
       "      <td>2.000000</td>\n",
       "    </tr>\n",
       "    <tr>\n",
       "      <th>max</th>\n",
       "      <td>910.000000</td>\n",
       "      <td>220.000000</td>\n",
       "      <td>38.000000</td>\n",
       "    </tr>\n",
       "  </tbody>\n",
       "</table>\n",
       "</div>"
      ],
      "text/plain": [
       "       num_characters    num_words  num_sentences\n",
       "count     4825.000000  4825.000000    4825.000000\n",
       "mean        71.023627    17.276269       1.837720\n",
       "std         58.016023    13.988585       1.454388\n",
       "min          2.000000     1.000000       1.000000\n",
       "25%         33.000000     8.000000       1.000000\n",
       "50%         52.000000    13.000000       1.000000\n",
       "75%         92.000000    22.000000       2.000000\n",
       "max        910.000000   220.000000      38.000000"
      ]
     },
     "execution_count": 106,
     "metadata": {},
     "output_type": "execute_result"
    }
   ],
   "source": [
    "# ham\n",
    "data[data['target'] == 0][['num_characters','num_words','num_sentences']].describe()"
   ]
  },
  {
   "cell_type": "code",
   "execution_count": 107,
   "id": "9bdf7e8d",
   "metadata": {},
   "outputs": [
    {
     "data": {
      "text/html": [
       "<div>\n",
       "<style scoped>\n",
       "    .dataframe tbody tr th:only-of-type {\n",
       "        vertical-align: middle;\n",
       "    }\n",
       "\n",
       "    .dataframe tbody tr th {\n",
       "        vertical-align: top;\n",
       "    }\n",
       "\n",
       "    .dataframe thead th {\n",
       "        text-align: right;\n",
       "    }\n",
       "</style>\n",
       "<table border=\"1\" class=\"dataframe\">\n",
       "  <thead>\n",
       "    <tr style=\"text-align: right;\">\n",
       "      <th></th>\n",
       "      <th>num_characters</th>\n",
       "      <th>num_words</th>\n",
       "      <th>num_sentences</th>\n",
       "    </tr>\n",
       "  </thead>\n",
       "  <tbody>\n",
       "    <tr>\n",
       "      <th>count</th>\n",
       "      <td>747.000000</td>\n",
       "      <td>747.000000</td>\n",
       "      <td>747.000000</td>\n",
       "    </tr>\n",
       "    <tr>\n",
       "      <th>mean</th>\n",
       "      <td>138.866131</td>\n",
       "      <td>27.891566</td>\n",
       "      <td>3.021419</td>\n",
       "    </tr>\n",
       "    <tr>\n",
       "      <th>std</th>\n",
       "      <td>29.183082</td>\n",
       "      <td>6.867007</td>\n",
       "      <td>1.537580</td>\n",
       "    </tr>\n",
       "    <tr>\n",
       "      <th>min</th>\n",
       "      <td>13.000000</td>\n",
       "      <td>2.000000</td>\n",
       "      <td>1.000000</td>\n",
       "    </tr>\n",
       "    <tr>\n",
       "      <th>25%</th>\n",
       "      <td>132.500000</td>\n",
       "      <td>25.000000</td>\n",
       "      <td>2.000000</td>\n",
       "    </tr>\n",
       "    <tr>\n",
       "      <th>50%</th>\n",
       "      <td>149.000000</td>\n",
       "      <td>29.000000</td>\n",
       "      <td>3.000000</td>\n",
       "    </tr>\n",
       "    <tr>\n",
       "      <th>75%</th>\n",
       "      <td>157.000000</td>\n",
       "      <td>32.000000</td>\n",
       "      <td>4.000000</td>\n",
       "    </tr>\n",
       "    <tr>\n",
       "      <th>max</th>\n",
       "      <td>224.000000</td>\n",
       "      <td>46.000000</td>\n",
       "      <td>9.000000</td>\n",
       "    </tr>\n",
       "  </tbody>\n",
       "</table>\n",
       "</div>"
      ],
      "text/plain": [
       "       num_characters   num_words  num_sentences\n",
       "count      747.000000  747.000000     747.000000\n",
       "mean       138.866131   27.891566       3.021419\n",
       "std         29.183082    6.867007       1.537580\n",
       "min         13.000000    2.000000       1.000000\n",
       "25%        132.500000   25.000000       2.000000\n",
       "50%        149.000000   29.000000       3.000000\n",
       "75%        157.000000   32.000000       4.000000\n",
       "max        224.000000   46.000000       9.000000"
      ]
     },
     "execution_count": 107,
     "metadata": {},
     "output_type": "execute_result"
    }
   ],
   "source": [
    "data[data['target'] == 1][['num_characters','num_words','num_sentences']].describe()"
   ]
  },
  {
   "cell_type": "code",
   "execution_count": 108,
   "id": "6f6d4ea3",
   "metadata": {},
   "outputs": [],
   "source": [
    "import seaborn as sns"
   ]
  },
  {
   "cell_type": "code",
   "execution_count": 109,
   "id": "1807aeab",
   "metadata": {},
   "outputs": [
    {
     "data": {
      "text/plain": [
       "<Axes: xlabel='num_characters', ylabel='Count'>"
      ]
     },
     "execution_count": 109,
     "metadata": {},
     "output_type": "execute_result"
    },
    {
     "data": {
      "image/png": "[encoded data removed]",
      "text/plain": [
       "<Figure size 1200x600 with 1 Axes>"
      ]
     },
     "metadata": {},
     "output_type": "display_data"
    }
   ],
   "source": [
    "plt.figure(figsize=(12,6))\n",
    "sns.histplot(data[data['target'] == 0]['num_characters'])\n",
    "sns.histplot(data[data['target'] == 1]['num_characters'],color='red')"
   ]
  },
  {
   "cell_type": "code",
   "execution_count": 110,
   "id": "6814f6d2",
   "metadata": {},
   "outputs": [
    {
     "data": {
      "text/plain": [
       "<Axes: xlabel='num_words', ylabel='Count'>"
      ]
     },
     "execution_count": 110,
     "metadata": {},
     "output_type": "execute_result"
    },
    {
     "data": {
      "image/png": "[encoded data removed]",
      "text/plain": [
       "<Figure size 1200x600 with 1 Axes>"
      ]
     },
     "metadata": {},
     "output_type": "display_data"
    }
   ],
   "source": [
    "plt.figure(figsize=(12,6))\n",
    "sns.histplot(data[data['target'] == 0]['num_words'])\n",
    "sns.histplot(data[data['target'] == 1]['num_words'],color='red')"
   ]
  },
  {
   "cell_type": "code",
   "execution_count": 111,
   "id": "2e342346",
   "metadata": {},
   "outputs": [
    {
     "data": {
      "text/plain": [
       "<seaborn.axisgrid.PairGrid at 0x19ef94172d0>"
      ]
     },
     "execution_count": 111,
     "metadata": {},
     "output_type": "execute_result"
    },
    {
     "data": {
      "image/png": "[encoded data removed]",
      "text/plain": [
       "<Figure size 808.875x750 with 12 Axes>"
      ]
     },
     "metadata": {},
     "output_type": "display_data"
    }
   ],
   "source": [
    "sns.pairplot(data,hue='target')"
   ]
  },
  {
   "cell_type": "code",
   "execution_count": 112,
   "id": "0e6b5795",
   "metadata": {},
   "outputs": [
    {
     "name": "stderr",
     "output_type": "stream",
     "text": [
      "C:\\Users\\LENOVO\\AppData\\Local\\Temp\\ipykernel_11388\\2578434383.py:1: FutureWarning: The default value of numeric_only in DataFrame.corr is deprecated. In a future version, it will default to False. Select only valid columns or specify the value of numeric_only to silence this warning.\n",
      "  sns.heatmap(data.corr(),annot=True)\n"
     ]
    },
    {
     "data": {
      "text/plain": [
       "<Axes: >"
      ]
     },
     "execution_count": 112,
     "metadata": {},
     "output_type": "execute_result"
    },
    {
     "data": {
      "image/png": "[encoded data removed]",
      "text/plain": [
       "<Figure size 640x480 with 2 Axes>"
      ]
     },
     "metadata": {},
     "output_type": "display_data"
    }
   ],
   "source": [
    "sns.heatmap(data.corr(),annot=True)"
   ]
  },
  {
   "cell_type": "code",
   "execution_count": 113,
   "id": "00c447c5",
   "metadata": {},
   "outputs": [],
   "source": [
    "def transform_text(text):\n",
    "    text = text.lower()\n",
    "    text = nltk.word_tokenize(text)\n",
    "    \n",
    "    y = []\n",
    "    for i in text:\n",
    "        if i.isalnum():\n",
    "            y.append(i)\n",
    "    \n",
    "    text = y[:]\n",
    "    y.clear()\n",
    "    \n",
    "    for i in text:\n",
    "        if i not in stopwords.words('english') and i not in string.punctuation:\n",
    "            y.append(i)\n",
    "            \n",
    "    text = y[:]\n",
    "    y.clear()\n",
    "    \n",
    "    for i in text:\n",
    "        y.append(ps.stem(i))\n",
    "    \n",
    "            \n",
    "    return \" \".join(y)"
   ]
  },
  {
   "cell_type": "code",
   "execution_count": 114,
   "id": "a355f1ec",
   "metadata": {},
   "outputs": [
    {
     "data": {
      "text/plain": [
       "\"I'm gonna be home soon and i don't want to talk about this stuff anymore tonight, k? I've cried enough today.\""
      ]
     },
     "execution_count": 114,
     "metadata": {},
     "output_type": "execute_result"
    }
   ],
   "source": [
    "data['text'][10]"
   ]
  },
  {
   "cell_type": "code",
   "execution_count": 115,
   "id": "c252d5dd",
   "metadata": {},
   "outputs": [
    {
     "data": {
      "text/plain": [
       "'love'"
      ]
     },
     "execution_count": 115,
     "metadata": {},
     "output_type": "execute_result"
    }
   ],
   "source": [
    "from nltk.stem.porter import PorterStemmer\n",
    "ps = PorterStemmer()\n",
    "ps.stem('loving')"
   ]
  },
  {
   "cell_type": "code",
   "execution_count": 125,
   "id": "656a4777",
   "metadata": {},
   "outputs": [
    {
     "name": "stdout",
     "output_type": "stream",
     "text": [
      "Collecting xgboost\n",
      "  Obtaining dependency information for xgboost from https://files.pythonhosted.org/packages/32/10/4689bda37403f7dd029d550c4446e0097c2f33b8ae877b235e76d5c49bc2/xgboost-2.0.0-py3-none-win_amd64.whl.metadata\n",
      "  Downloading xgboost-2.0.0-py3-none-win_amd64.whl.metadata (2.0 kB)\n",
      "Requirement already satisfied: numpy in c:\\users\\lenovo\\anaconda3\\lib\\site-packages (from xgboost) (1.24.3)\n",
      "Requirement already satisfied: scipy in c:\\users\\lenovo\\anaconda3\\lib\\site-packages (from xgboost) (1.10.1)\n",
      "Downloading xgboost-2.0.0-py3-none-win_amd64.whl (99.7 MB)\n",
      "   ---------------------------------------- 0.0/99.7 MB ? eta -:--:--\n",
      "   ---------------------------------------- 0.3/99.7 MB 6.0 MB/s eta 0:00:17\n",
      "   ---------------------------------------- 0.4/99.7 MB 5.4 MB/s eta 0:00:19\n",
      "   ---------------------------------------- 0.6/99.7 MB 4.9 MB/s eta 0:00:21\n",
      "   ---------------------------------------- 0.9/99.7 MB 5.2 MB/s eta 0:00:19\n",
      "    --------------------------------------- 1.3/99.7 MB 6.5 MB/s eta 0:00:16\n",
      "    --------------------------------------- 1.6/99.7 MB 6.3 MB/s eta 0:00:16\n",
      "    --------------------------------------- 1.9/99.7 MB 6.5 MB/s eta 0:00:16\n",
      "    --------------------------------------- 2.2/99.7 MB 6.7 MB/s eta 0:00:15\n",
      "    --------------------------------------- 2.4/99.7 MB 6.2 MB/s eta 0:00:16\n",
      "   - -------------------------------------- 2.6/99.7 MB 6.5 MB/s eta 0:00:15\n",
      "   - -------------------------------------- 2.7/99.7 MB 5.5 MB/s eta 0:00:18\n",
      "   - -------------------------------------- 3.0/99.7 MB 5.6 MB/s eta 0:00:18\n",
      "   - -------------------------------------- 3.1/99.7 MB 5.3 MB/s eta 0:00:19\n",
      "   - -------------------------------------- 3.2/99.7 MB 5.0 MB/s eta 0:00:20\n",
      "   - -------------------------------------- 3.5/99.7 MB 5.3 MB/s eta 0:00:19\n",
      "   - -------------------------------------- 3.8/99.7 MB 5.3 MB/s eta 0:00:19\n",
      "   - -------------------------------------- 4.1/99.7 MB 5.5 MB/s eta 0:00:18\n",
      "   - -------------------------------------- 4.3/99.7 MB 5.5 MB/s eta 0:00:18\n",
      "   - -------------------------------------- 4.7/99.7 MB 5.7 MB/s eta 0:00:17\n",
      "   - -------------------------------------- 5.0/99.7 MB 5.8 MB/s eta 0:00:17\n",
      "   -- ------------------------------------- 5.3/99.7 MB 5.8 MB/s eta 0:00:17\n",
      "   -- ------------------------------------- 5.6/99.7 MB 5.9 MB/s eta 0:00:17\n",
      "   -- ------------------------------------- 6.0/99.7 MB 6.0 MB/s eta 0:00:16\n",
      "   -- ------------------------------------- 6.1/99.7 MB 5.8 MB/s eta 0:00:17\n",
      "   -- ------------------------------------- 6.1/99.7 MB 5.8 MB/s eta 0:00:17\n",
      "   -- ------------------------------------- 6.1/99.7 MB 5.8 MB/s eta 0:00:17\n",
      "   -- ------------------------------------- 6.1/99.7 MB 5.2 MB/s eta 0:00:18\n",
      "   -- ------------------------------------- 6.1/99.7 MB 5.2 MB/s eta 0:00:18\n",
      "   -- ------------------------------------- 6.1/99.7 MB 4.8 MB/s eta 0:00:20\n",
      "   -- ------------------------------------- 6.3/99.7 MB 4.8 MB/s eta 0:00:20\n",
      "   -- ------------------------------------- 6.5/99.7 MB 4.7 MB/s eta 0:00:20\n",
      "   -- ------------------------------------- 6.8/99.7 MB 4.8 MB/s eta 0:00:20\n",
      "   -- ------------------------------------- 7.1/99.7 MB 4.8 MB/s eta 0:00:20\n",
      "   -- ------------------------------------- 7.5/99.7 MB 4.9 MB/s eta 0:00:19\n",
      "   --- ------------------------------------ 7.7/99.7 MB 5.0 MB/s eta 0:00:19\n",
      "   --- ------------------------------------ 8.0/99.7 MB 5.0 MB/s eta 0:00:19\n",
      "   --- ------------------------------------ 8.4/99.7 MB 5.0 MB/s eta 0:00:19\n",
      "   --- ------------------------------------ 8.7/99.7 MB 5.1 MB/s eta 0:00:18\n",
      "   --- ------------------------------------ 9.1/99.7 MB 5.2 MB/s eta 0:00:18\n",
      "   --- ------------------------------------ 9.3/99.7 MB 5.2 MB/s eta 0:00:18\n",
      "   --- ------------------------------------ 9.5/99.7 MB 5.1 MB/s eta 0:00:18\n",
      "   --- ------------------------------------ 9.9/99.7 MB 5.2 MB/s eta 0:00:18\n",
      "   ---- ----------------------------------- 10.2/99.7 MB 5.2 MB/s eta 0:00:18\n",
      "   ---- ----------------------------------- 10.5/99.7 MB 5.3 MB/s eta 0:00:17\n",
      "   ---- ----------------------------------- 10.9/99.7 MB 5.4 MB/s eta 0:00:17\n",
      "   ---- ----------------------------------- 10.9/99.7 MB 5.4 MB/s eta 0:00:17\n",
      "   ---- ----------------------------------- 11.1/99.7 MB 5.2 MB/s eta 0:00:18\n",
      "   ---- ----------------------------------- 11.4/99.7 MB 5.2 MB/s eta 0:00:18\n",
      "   ---- ----------------------------------- 11.9/99.7 MB 5.1 MB/s eta 0:00:18\n",
      "   ---- ----------------------------------- 12.2/99.7 MB 5.1 MB/s eta 0:00:18\n",
      "   ---- ----------------------------------- 12.3/99.7 MB 5.0 MB/s eta 0:00:18\n",
      "   ----- ---------------------------------- 12.5/99.7 MB 5.0 MB/s eta 0:00:18\n",
      "   ----- ---------------------------------- 12.8/99.7 MB 5.2 MB/s eta 0:00:17\n",
      "   ----- ---------------------------------- 13.1/99.7 MB 5.2 MB/s eta 0:00:17\n",
      "   ----- ---------------------------------- 13.5/99.7 MB 5.4 MB/s eta 0:00:17\n",
      "   ----- ---------------------------------- 13.6/99.7 MB 5.4 MB/s eta 0:00:17\n",
      "   ----- ---------------------------------- 13.8/99.7 MB 5.3 MB/s eta 0:00:17\n",
      "   ----- ---------------------------------- 14.1/99.7 MB 5.2 MB/s eta 0:00:17\n",
      "   ----- ---------------------------------- 14.1/99.7 MB 5.2 MB/s eta 0:00:17\n",
      "   ----- ---------------------------------- 14.1/99.7 MB 5.2 MB/s eta 0:00:17\n",
      "   ----- ---------------------------------- 14.1/99.7 MB 5.2 MB/s eta 0:00:17\n",
      "   ----- ---------------------------------- 14.1/99.7 MB 5.2 MB/s eta 0:00:17\n",
      "   ----- ---------------------------------- 14.2/99.7 MB 4.7 MB/s eta 0:00:19\n",
      "   ----- ---------------------------------- 14.4/99.7 MB 4.7 MB/s eta 0:00:19\n",
      "   ----- ---------------------------------- 14.6/99.7 MB 4.7 MB/s eta 0:00:19\n",
      "   ----- ---------------------------------- 14.9/99.7 MB 4.7 MB/s eta 0:00:19\n",
      "   ------ --------------------------------- 15.4/99.7 MB 4.8 MB/s eta 0:00:18\n",
      "   ------ --------------------------------- 15.6/99.7 MB 4.7 MB/s eta 0:00:18\n",
      "   ------ --------------------------------- 16.1/99.7 MB 4.8 MB/s eta 0:00:18\n",
      "   ------ --------------------------------- 16.4/99.7 MB 5.4 MB/s eta 0:00:16\n",
      "   ------ --------------------------------- 17.0/99.7 MB 5.6 MB/s eta 0:00:15\n",
      "   ------ --------------------------------- 17.4/99.7 MB 5.7 MB/s eta 0:00:15\n",
      "   ------- -------------------------------- 18.0/99.7 MB 5.8 MB/s eta 0:00:15\n",
      "   ------- -------------------------------- 18.5/99.7 MB 5.9 MB/s eta 0:00:14\n",
      "   ------- -------------------------------- 18.9/99.7 MB 5.9 MB/s eta 0:00:14\n",
      "   ------- -------------------------------- 19.5/99.7 MB 6.0 MB/s eta 0:00:14\n",
      "   ------- -------------------------------- 19.9/99.7 MB 6.1 MB/s eta 0:00:14\n",
      "   -------- ------------------------------- 20.3/99.7 MB 6.2 MB/s eta 0:00:13\n",
      "   -------- ------------------------------- 20.6/99.7 MB 6.1 MB/s eta 0:00:13\n",
      "   -------- ------------------------------- 20.9/99.7 MB 6.1 MB/s eta 0:00:13\n",
      "   -------- ------------------------------- 21.3/99.7 MB 6.4 MB/s eta 0:00:13\n",
      "   -------- ------------------------------- 21.7/99.7 MB 6.5 MB/s eta 0:00:12\n",
      "   -------- ------------------------------- 22.1/99.7 MB 6.5 MB/s eta 0:00:12\n",
      "   --------- ------------------------------ 22.6/99.7 MB 6.8 MB/s eta 0:00:12\n",
      "   --------- ------------------------------ 23.2/99.7 MB 7.0 MB/s eta 0:00:11\n",
      "   --------- ------------------------------ 23.7/99.7 MB 7.0 MB/s eta 0:00:11\n",
      "   --------- ------------------------------ 24.1/99.7 MB 7.3 MB/s eta 0:00:11\n",
      "   --------- ------------------------------ 24.4/99.7 MB 8.5 MB/s eta 0:00:09\n",
      "   --------- ------------------------------ 24.8/99.7 MB 8.7 MB/s eta 0:00:09\n",
      "   ---------- ----------------------------- 25.0/99.7 MB 8.6 MB/s eta 0:00:09\n",
      "   ---------- ----------------------------- 25.5/99.7 MB 8.7 MB/s eta 0:00:09\n",
      "   ---------- ----------------------------- 25.9/99.7 MB 8.8 MB/s eta 0:00:09\n",
      "   ---------- ----------------------------- 26.2/99.7 MB 8.7 MB/s eta 0:00:09\n",
      "   ---------- ----------------------------- 26.6/99.7 MB 8.7 MB/s eta 0:00:09\n",
      "   ---------- ----------------------------- 27.1/99.7 MB 8.7 MB/s eta 0:00:09\n",
      "   ----------- ---------------------------- 27.5/99.7 MB 8.6 MB/s eta 0:00:09\n",
      "   ----------- ---------------------------- 27.8/99.7 MB 8.6 MB/s eta 0:00:09\n",
      "   ----------- ---------------------------- 28.1/99.7 MB 8.4 MB/s eta 0:00:09\n",
      "   ----------- ---------------------------- 28.3/99.7 MB 8.4 MB/s eta 0:00:09\n",
      "   ----------- ---------------------------- 28.7/99.7 MB 8.2 MB/s eta 0:00:09\n",
      "   ----------- ---------------------------- 29.3/99.7 MB 8.3 MB/s eta 0:00:09\n",
      "   ----------- ---------------------------- 29.8/99.7 MB 8.3 MB/s eta 0:00:09\n",
      "   ------------ --------------------------- 30.3/99.7 MB 8.4 MB/s eta 0:00:09\n",
      "   ------------ --------------------------- 30.9/99.7 MB 8.7 MB/s eta 0:00:08\n",
      "   ------------ --------------------------- 31.4/99.7 MB 8.8 MB/s eta 0:00:08\n",
      "   ------------ --------------------------- 31.8/99.7 MB 8.8 MB/s eta 0:00:08\n",
      "   ------------ --------------------------- 32.2/99.7 MB 9.0 MB/s eta 0:00:08\n",
      "   ------------- -------------------------- 32.6/99.7 MB 8.7 MB/s eta 0:00:08\n",
      "   ------------- -------------------------- 33.2/99.7 MB 8.7 MB/s eta 0:00:08\n",
      "   ------------- -------------------------- 33.5/99.7 MB 8.6 MB/s eta 0:00:08\n",
      "   ------------- -------------------------- 34.1/99.7 MB 8.7 MB/s eta 0:00:08\n",
      "   ------------- -------------------------- 34.5/99.7 MB 8.8 MB/s eta 0:00:08\n",
      "   ------------- -------------------------- 34.9/99.7 MB 8.7 MB/s eta 0:00:08\n",
      "   -------------- ------------------------- 35.1/99.7 MB 9.0 MB/s eta 0:00:08\n",
      "   -------------- ------------------------- 35.4/99.7 MB 8.8 MB/s eta 0:00:08\n",
      "   -------------- ------------------------- 35.8/99.7 MB 8.7 MB/s eta 0:00:08\n",
      "   -------------- ------------------------- 36.1/99.7 MB 8.8 MB/s eta 0:00:08\n",
      "   -------------- ------------------------- 36.5/99.7 MB 9.0 MB/s eta 0:00:08\n",
      "   -------------- ------------------------- 37.0/99.7 MB 9.1 MB/s eta 0:00:07\n",
      "   --------------- ------------------------ 37.4/99.7 MB 9.0 MB/s eta 0:00:07\n",
      "   --------------- ------------------------ 37.7/99.7 MB 9.1 MB/s eta 0:00:07\n",
      "   --------------- ------------------------ 38.2/99.7 MB 9.2 MB/s eta 0:00:07\n",
      "   --------------- ------------------------ 38.6/99.7 MB 9.5 MB/s eta 0:00:07\n",
      "   --------------- ------------------------ 39.0/99.7 MB 9.6 MB/s eta 0:00:07\n",
      "   --------------- ------------------------ 39.1/99.7 MB 9.6 MB/s eta 0:00:07\n",
      "   --------------- ------------------------ 39.5/99.7 MB 9.2 MB/s eta 0:00:07\n",
      "   --------------- ------------------------ 39.8/99.7 MB 9.1 MB/s eta 0:00:07\n",
      "   ---------------- ----------------------- 40.3/99.7 MB 9.0 MB/s eta 0:00:07\n",
      "   ---------------- ----------------------- 40.8/99.7 MB 9.0 MB/s eta 0:00:07\n",
      "   ---------------- ----------------------- 41.2/99.7 MB 8.8 MB/s eta 0:00:07\n",
      "   ---------------- ----------------------- 41.5/99.7 MB 8.7 MB/s eta 0:00:07\n",
      "   ---------------- ----------------------- 41.8/99.7 MB 8.5 MB/s eta 0:00:07\n",
      "   ---------------- ----------------------- 42.2/99.7 MB 8.6 MB/s eta 0:00:07\n",
      "   ----------------- ---------------------- 42.5/99.7 MB 8.5 MB/s eta 0:00:07\n",
      "   ----------------- ---------------------- 42.7/99.7 MB 8.3 MB/s eta 0:00:07\n",
      "   ----------------- ---------------------- 43.2/99.7 MB 8.2 MB/s eta 0:00:07\n",
      "   ----------------- ---------------------- 43.6/99.7 MB 8.1 MB/s eta 0:00:07\n",
      "   ----------------- ---------------------- 43.8/99.7 MB 8.0 MB/s eta 0:00:07\n",
      "   ----------------- ---------------------- 44.2/99.7 MB 7.8 MB/s eta 0:00:08\n",
      "   ----------------- ---------------------- 44.6/99.7 MB 7.8 MB/s eta 0:00:08\n",
      "   ------------------ --------------------- 44.9/99.7 MB 7.7 MB/s eta 0:00:08\n",
      "   ------------------ --------------------- 45.2/99.7 MB 7.7 MB/s eta 0:00:08\n",
      "   ------------------ --------------------- 45.5/99.7 MB 7.6 MB/s eta 0:00:08\n",
      "   ------------------ --------------------- 45.8/99.7 MB 7.5 MB/s eta 0:00:08\n",
      "   ------------------ --------------------- 46.2/99.7 MB 7.7 MB/s eta 0:00:07\n",
      "   ------------------ --------------------- 46.6/99.7 MB 7.6 MB/s eta 0:00:07\n",
      "   ------------------ --------------------- 46.8/99.7 MB 7.5 MB/s eta 0:00:08\n",
      "   ------------------ --------------------- 47.1/99.7 MB 7.4 MB/s eta 0:00:08\n",
      "   ------------------ --------------------- 47.4/99.7 MB 7.4 MB/s eta 0:00:08\n",
      "   ------------------- -------------------- 47.7/99.7 MB 7.3 MB/s eta 0:00:08\n",
      "   ------------------- -------------------- 48.2/99.7 MB 7.4 MB/s eta 0:00:08\n",
      "   ------------------- -------------------- 48.6/99.7 MB 7.3 MB/s eta 0:00:08\n",
      "   ------------------- -------------------- 49.0/99.7 MB 7.2 MB/s eta 0:00:08\n",
      "   ------------------- -------------------- 49.4/99.7 MB 7.4 MB/s eta 0:00:07\n",
      "   ------------------- -------------------- 49.8/99.7 MB 7.4 MB/s eta 0:00:07\n",
      "   -------------------- ------------------- 50.3/99.7 MB 7.5 MB/s eta 0:00:07\n",
      "   -------------------- ------------------- 50.7/99.7 MB 7.5 MB/s eta 0:00:07\n",
      "   -------------------- ------------------- 51.3/99.7 MB 7.6 MB/s eta 0:00:07\n",
      "   -------------------- ------------------- 51.8/99.7 MB 7.8 MB/s eta 0:00:07\n",
      "   -------------------- ------------------- 52.3/99.7 MB 7.9 MB/s eta 0:00:07\n",
      "   --------------------- ------------------ 52.9/99.7 MB 8.2 MB/s eta 0:00:06\n",
      "   --------------------- ------------------ 53.2/99.7 MB 8.2 MB/s eta 0:00:06\n",
      "   --------------------- ------------------ 53.7/99.7 MB 8.4 MB/s eta 0:00:06\n",
      "   --------------------- ------------------ 54.1/99.7 MB 8.5 MB/s eta 0:00:06\n",
      "   --------------------- ------------------ 54.6/99.7 MB 8.6 MB/s eta 0:00:06\n",
      "   ---------------------- ----------------- 55.0/99.7 MB 8.7 MB/s eta 0:00:06\n",
      "   ---------------------- ----------------- 55.5/99.7 MB 9.0 MB/s eta 0:00:05\n",
      "   ---------------------- ----------------- 55.8/99.7 MB 8.8 MB/s eta 0:00:05\n",
      "   ---------------------- ----------------- 56.2/99.7 MB 8.8 MB/s eta 0:00:05\n",
      "   ---------------------- ----------------- 56.6/99.7 MB 8.7 MB/s eta 0:00:05\n",
      "   ---------------------- ----------------- 57.1/99.7 MB 9.1 MB/s eta 0:00:05\n",
      "   ----------------------- ---------------- 57.6/99.7 MB 9.2 MB/s eta 0:00:05\n",
      "   ----------------------- ---------------- 58.0/99.7 MB 9.4 MB/s eta 0:00:05\n",
      "   ----------------------- ---------------- 58.4/99.7 MB 9.2 MB/s eta 0:00:05\n",
      "   ----------------------- ---------------- 58.8/99.7 MB 9.2 MB/s eta 0:00:05\n",
      "   ----------------------- ---------------- 59.2/99.7 MB 9.1 MB/s eta 0:00:05\n",
      "   ----------------------- ---------------- 59.6/99.7 MB 9.2 MB/s eta 0:00:05\n",
      "   ----------------------- ---------------- 59.7/99.7 MB 9.1 MB/s eta 0:00:05\n",
      "   ------------------------ --------------- 59.9/99.7 MB 8.8 MB/s eta 0:00:05\n",
      "   ------------------------ --------------- 60.3/99.7 MB 8.8 MB/s eta 0:00:05\n",
      "   ------------------------ --------------- 60.7/99.7 MB 8.7 MB/s eta 0:00:05\n",
      "   ------------------------ --------------- 61.1/99.7 MB 8.7 MB/s eta 0:00:05\n",
      "   ------------------------ --------------- 61.4/99.7 MB 8.5 MB/s eta 0:00:05\n",
      "   ------------------------ --------------- 61.8/99.7 MB 8.5 MB/s eta 0:00:05\n",
      "   ------------------------ --------------- 62.0/99.7 MB 8.2 MB/s eta 0:00:05\n",
      "   ------------------------- -------------- 62.5/99.7 MB 8.0 MB/s eta 0:00:05\n",
      "   ------------------------- -------------- 62.9/99.7 MB 7.9 MB/s eta 0:00:05\n",
      "   ------------------------- -------------- 63.2/99.7 MB 7.9 MB/s eta 0:00:05\n",
      "   ------------------------- -------------- 63.3/99.7 MB 7.8 MB/s eta 0:00:05\n",
      "   ------------------------- -------------- 63.5/99.7 MB 7.6 MB/s eta 0:00:05\n",
      "   ------------------------- -------------- 63.8/99.7 MB 7.6 MB/s eta 0:00:05\n",
      "   ------------------------- -------------- 64.1/99.7 MB 7.4 MB/s eta 0:00:05\n",
      "   ------------------------- -------------- 64.3/99.7 MB 7.4 MB/s eta 0:00:05\n",
      "   ------------------------- -------------- 64.6/99.7 MB 7.4 MB/s eta 0:00:05\n",
      "   -------------------------- ------------- 64.9/99.7 MB 7.3 MB/s eta 0:00:05\n",
      "   -------------------------- ------------- 65.1/99.7 MB 7.3 MB/s eta 0:00:05\n",
      "   -------------------------- ------------- 65.1/99.7 MB 7.1 MB/s eta 0:00:05\n",
      "   -------------------------- ------------- 65.2/99.7 MB 6.9 MB/s eta 0:00:06\n",
      "   -------------------------- ------------- 65.4/99.7 MB 6.8 MB/s eta 0:00:06\n",
      "   -------------------------- ------------- 65.7/99.7 MB 6.8 MB/s eta 0:00:06\n",
      "   -------------------------- ------------- 66.0/99.7 MB 6.8 MB/s eta 0:00:05\n",
      "   -------------------------- ------------- 66.3/99.7 MB 6.7 MB/s eta 0:00:06\n",
      "   -------------------------- ------------- 66.6/99.7 MB 6.7 MB/s eta 0:00:05\n",
      "   -------------------------- ------------- 66.8/99.7 MB 6.6 MB/s eta 0:00:05\n",
      "   -------------------------- ------------- 67.1/99.7 MB 6.5 MB/s eta 0:00:06\n",
      "   -------------------------- ------------- 67.2/99.7 MB 6.5 MB/s eta 0:00:06\n",
      "   -------------------------- ------------- 67.2/99.7 MB 6.5 MB/s eta 0:00:06\n",
      "   -------------------------- ------------- 67.2/99.7 MB 6.5 MB/s eta 0:00:06\n",
      "   -------------------------- ------------- 67.2/99.7 MB 6.5 MB/s eta 0:00:06\n",
      "   -------------------------- ------------- 67.2/99.7 MB 5.7 MB/s eta 0:00:06\n",
      "   --------------------------- ------------ 67.3/99.7 MB 5.6 MB/s eta 0:00:06\n",
      "   --------------------------- ------------ 67.6/99.7 MB 5.6 MB/s eta 0:00:06\n",
      "   --------------------------- ------------ 67.7/99.7 MB 5.5 MB/s eta 0:00:06\n",
      "   --------------------------- ------------ 67.9/99.7 MB 5.4 MB/s eta 0:00:06\n",
      "   --------------------------- ------------ 68.0/99.7 MB 5.4 MB/s eta 0:00:06\n",
      "   --------------------------- ------------ 68.0/99.7 MB 5.4 MB/s eta 0:00:06\n",
      "   --------------------------- ------------ 68.0/99.7 MB 5.1 MB/s eta 0:00:07\n",
      "   --------------------------- ------------ 68.2/99.7 MB 5.0 MB/s eta 0:00:07\n",
      "   --------------------------- ------------ 68.6/99.7 MB 5.0 MB/s eta 0:00:07\n",
      "   --------------------------- ------------ 69.0/99.7 MB 5.0 MB/s eta 0:00:07\n",
      "   --------------------------- ------------ 69.5/99.7 MB 5.1 MB/s eta 0:00:06\n",
      "   ---------------------------- ----------- 69.9/99.7 MB 5.1 MB/s eta 0:00:06\n",
      "   ---------------------------- ----------- 70.5/99.7 MB 5.3 MB/s eta 0:00:06\n",
      "   ---------------------------- ----------- 70.8/99.7 MB 5.3 MB/s eta 0:00:06\n",
      "   ---------------------------- ----------- 71.3/99.7 MB 5.3 MB/s eta 0:00:06\n",
      "   ---------------------------- ----------- 71.6/99.7 MB 5.3 MB/s eta 0:00:06\n",
      "   ---------------------------- ----------- 72.1/99.7 MB 5.4 MB/s eta 0:00:06\n",
      "   ----------------------------- ---------- 72.7/99.7 MB 5.5 MB/s eta 0:00:05\n",
      "   ----------------------------- ---------- 73.1/99.7 MB 5.6 MB/s eta 0:00:05\n",
      "   ----------------------------- ---------- 73.6/99.7 MB 5.7 MB/s eta 0:00:05\n",
      "   ----------------------------- ---------- 73.9/99.7 MB 5.7 MB/s eta 0:00:05\n",
      "   ----------------------------- ---------- 74.5/99.7 MB 5.8 MB/s eta 0:00:05\n",
      "   ------------------------------ --------- 74.9/99.7 MB 6.0 MB/s eta 0:00:05\n",
      "   ------------------------------ --------- 75.0/99.7 MB 6.0 MB/s eta 0:00:05\n",
      "   ------------------------------ --------- 75.0/99.7 MB 5.8 MB/s eta 0:00:05\n",
      "   ------------------------------ --------- 75.6/99.7 MB 6.2 MB/s eta 0:00:04\n",
      "   ------------------------------ --------- 76.1/99.7 MB 6.3 MB/s eta 0:00:04\n",
      "   ------------------------------ --------- 76.7/99.7 MB 6.4 MB/s eta 0:00:04\n",
      "   ------------------------------ --------- 77.1/99.7 MB 6.6 MB/s eta 0:00:04\n",
      "   ------------------------------- -------- 77.5/99.7 MB 8.0 MB/s eta 0:00:03\n",
      "   ------------------------------- -------- 77.9/99.7 MB 8.2 MB/s eta 0:00:03\n",
      "   ------------------------------- -------- 78.3/99.7 MB 9.6 MB/s eta 0:00:03\n",
      "   ------------------------------- -------- 78.7/99.7 MB 9.5 MB/s eta 0:00:03\n",
      "   ------------------------------- -------- 79.0/99.7 MB 9.4 MB/s eta 0:00:03\n",
      "   ------------------------------- -------- 79.0/99.7 MB 9.4 MB/s eta 0:00:03\n",
      "   ------------------------------- -------- 79.0/99.7 MB 9.4 MB/s eta 0:00:03\n",
      "   ------------------------------- -------- 79.0/99.7 MB 9.4 MB/s eta 0:00:03\n",
      "   ------------------------------- -------- 79.0/99.7 MB 9.4 MB/s eta 0:00:03\n",
      "   ------------------------------- -------- 79.0/99.7 MB 9.4 MB/s eta 0:00:03\n",
      "   ------------------------------- -------- 79.2/99.7 MB 7.7 MB/s eta 0:00:03\n",
      "   ------------------------------- -------- 79.4/99.7 MB 7.5 MB/s eta 0:00:03\n",
      "   ------------------------------- -------- 79.7/99.7 MB 7.4 MB/s eta 0:00:03\n",
      "   -------------------------------- ------- 79.9/99.7 MB 7.3 MB/s eta 0:00:03\n",
      "   -------------------------------- ------- 80.2/99.7 MB 7.2 MB/s eta 0:00:03\n",
      "   -------------------------------- ------- 80.5/99.7 MB 7.0 MB/s eta 0:00:03\n",
      "   -------------------------------- ------- 80.7/99.7 MB 7.0 MB/s eta 0:00:03\n",
      "   -------------------------------- ------- 80.8/99.7 MB 6.8 MB/s eta 0:00:03\n",
      "   -------------------------------- ------- 81.1/99.7 MB 6.8 MB/s eta 0:00:03\n",
      "   -------------------------------- ------- 81.4/99.7 MB 6.7 MB/s eta 0:00:03\n",
      "   -------------------------------- ------- 81.8/99.7 MB 6.7 MB/s eta 0:00:03\n",
      "   -------------------------------- ------- 82.3/99.7 MB 6.6 MB/s eta 0:00:03\n",
      "   --------------------------------- ------ 82.6/99.7 MB 6.6 MB/s eta 0:00:03\n",
      "   --------------------------------- ------ 83.0/99.7 MB 6.5 MB/s eta 0:00:03\n",
      "   --------------------------------- ------ 83.4/99.7 MB 6.5 MB/s eta 0:00:03\n",
      "   --------------------------------- ------ 83.8/99.7 MB 6.5 MB/s eta 0:00:03\n",
      "   --------------------------------- ------ 84.2/99.7 MB 6.6 MB/s eta 0:00:03\n",
      "   --------------------------------- ------ 84.6/99.7 MB 6.5 MB/s eta 0:00:03\n",
      "   ---------------------------------- ----- 85.0/99.7 MB 6.5 MB/s eta 0:00:03\n",
      "   ---------------------------------- ----- 85.4/99.7 MB 6.7 MB/s eta 0:00:03\n",
      "   ---------------------------------- ----- 85.8/99.7 MB 6.7 MB/s eta 0:00:03\n",
      "   ---------------------------------- ----- 86.3/99.7 MB 6.8 MB/s eta 0:00:02\n",
      "   ---------------------------------- ----- 86.7/99.7 MB 6.6 MB/s eta 0:00:02\n",
      "   ---------------------------------- ----- 87.2/99.7 MB 6.6 MB/s eta 0:00:02\n",
      "   ----------------------------------- ---- 87.6/99.7 MB 6.6 MB/s eta 0:00:02\n",
      "   ----------------------------------- ---- 87.8/99.7 MB 6.5 MB/s eta 0:00:02\n",
      "   ----------------------------------- ---- 88.3/99.7 MB 6.5 MB/s eta 0:00:02\n",
      "   ----------------------------------- ---- 88.7/99.7 MB 6.5 MB/s eta 0:00:02\n",
      "   ----------------------------------- ---- 89.1/99.7 MB 6.6 MB/s eta 0:00:02\n",
      "   ----------------------------------- ---- 89.3/99.7 MB 6.5 MB/s eta 0:00:02\n",
      "   ----------------------------------- ---- 89.3/99.7 MB 7.4 MB/s eta 0:00:02\n",
      "   ----------------------------------- ---- 89.6/99.7 MB 7.5 MB/s eta 0:00:02\n",
      "   ------------------------------------ --- 90.0/99.7 MB 7.5 MB/s eta 0:00:02\n",
      "   ------------------------------------ --- 90.4/99.7 MB 7.7 MB/s eta 0:00:02\n",
      "   ------------------------------------ --- 90.8/99.7 MB 7.8 MB/s eta 0:00:02\n",
      "   ------------------------------------ --- 91.1/99.7 MB 8.1 MB/s eta 0:00:02\n",
      "   ------------------------------------ --- 91.2/99.7 MB 7.9 MB/s eta 0:00:02\n",
      "   ------------------------------------ --- 91.7/99.7 MB 8.1 MB/s eta 0:00:01\n",
      "   ------------------------------------ --- 92.2/99.7 MB 8.1 MB/s eta 0:00:01\n",
      "   ------------------------------------- -- 92.6/99.7 MB 8.1 MB/s eta 0:00:01\n",
      "   ------------------------------------- -- 92.7/99.7 MB 8.0 MB/s eta 0:00:01\n",
      "   ------------------------------------- -- 92.9/99.7 MB 7.9 MB/s eta 0:00:01\n",
      "   ------------------------------------- -- 93.3/99.7 MB 7.9 MB/s eta 0:00:01\n",
      "   ------------------------------------- -- 93.6/99.7 MB 7.8 MB/s eta 0:00:01\n",
      "   ------------------------------------- -- 94.1/99.7 MB 7.8 MB/s eta 0:00:01\n",
      "   ------------------------------------- -- 94.4/99.7 MB 7.7 MB/s eta 0:00:01\n",
      "   ------------------------------------- -- 94.6/99.7 MB 7.6 MB/s eta 0:00:01\n",
      "   -------------------------------------- - 94.8/99.7 MB 7.4 MB/s eta 0:00:01\n",
      "   -------------------------------------- - 95.0/99.7 MB 7.2 MB/s eta 0:00:01\n",
      "   -------------------------------------- - 95.2/99.7 MB 7.1 MB/s eta 0:00:01\n",
      "   -------------------------------------- - 95.4/99.7 MB 7.0 MB/s eta 0:00:01\n",
      "   -------------------------------------- - 95.5/99.7 MB 6.9 MB/s eta 0:00:01\n",
      "   -------------------------------------- - 95.5/99.7 MB 6.8 MB/s eta 0:00:01\n",
      "   -------------------------------------- - 95.6/99.7 MB 6.5 MB/s eta 0:00:01\n",
      "   -------------------------------------- - 95.9/99.7 MB 6.4 MB/s eta 0:00:01\n",
      "   -------------------------------------- - 96.1/99.7 MB 6.4 MB/s eta 0:00:01\n",
      "   -------------------------------------- - 96.3/99.7 MB 6.2 MB/s eta 0:00:01\n",
      "   -------------------------------------- - 96.3/99.7 MB 6.2 MB/s eta 0:00:01\n",
      "   -------------------------------------- - 96.5/99.7 MB 5.9 MB/s eta 0:00:01\n",
      "   -------------------------------------- - 96.7/99.7 MB 5.8 MB/s eta 0:00:01\n",
      "   -------------------------------------- - 96.9/99.7 MB 5.6 MB/s eta 0:00:01\n",
      "   -------------------------------------- - 97.0/99.7 MB 5.5 MB/s eta 0:00:01\n",
      "   -------------------------------------- - 97.2/99.7 MB 5.4 MB/s eta 0:00:01\n",
      "   ---------------------------------------  97.4/99.7 MB 5.4 MB/s eta 0:00:01\n",
      "   ---------------------------------------  97.6/99.7 MB 5.3 MB/s eta 0:00:01\n",
      "   ---------------------------------------  97.8/99.7 MB 5.3 MB/s eta 0:00:01\n",
      "   ---------------------------------------  98.0/99.7 MB 5.2 MB/s eta 0:00:01\n",
      "   ---------------------------------------  98.2/99.7 MB 5.2 MB/s eta 0:00:01\n",
      "   ---------------------------------------  98.5/99.7 MB 5.2 MB/s eta 0:00:01\n",
      "   ---------------------------------------  98.9/99.7 MB 5.1 MB/s eta 0:00:01\n",
      "   ---------------------------------------  99.1/99.7 MB 5.1 MB/s eta 0:00:01\n",
      "   ---------------------------------------  99.4/99.7 MB 5.1 MB/s eta 0:00:01\n",
      "   ---------------------------------------  99.6/99.7 MB 5.2 MB/s eta 0:00:01\n",
      "   ---------------------------------------  99.7/99.7 MB 5.2 MB/s eta 0:00:01\n",
      "   ---------------------------------------  99.7/99.7 MB 5.2 MB/s eta 0:00:01\n",
      "   ---------------------------------------  99.7/99.7 MB 5.2 MB/s eta 0:00:01\n",
      "   ---------------------------------------  99.7/99.7 MB 5.2 MB/s eta 0:00:01\n",
      "   ---------------------------------------  99.7/99.7 MB 5.2 MB/s eta 0:00:01\n",
      "   ---------------------------------------  99.7/99.7 MB 5.2 MB/s eta 0:00:01\n",
      "   ---------------------------------------- 99.7/99.7 MB 4.4 MB/s eta 0:00:00\n",
      "Installing collected packages: xgboost\n",
      "Successfully installed xgboost-2.0.0\n",
      "Note: you may need to restart the kernel to use updated packages.\n"
     ]
    }
   ],
   "source": [
    "pip install xgboost\n"
   ]
  },
  {
   "cell_type": "code",
   "execution_count": 126,
   "id": "d3d5329f",
   "metadata": {},
   "outputs": [],
   "source": [
    "from sklearn.linear_model import LogisticRegression\n",
    "from sklearn.svm import SVC\n",
    "from sklearn.naive_bayes import MultinomialNB\n",
    "from sklearn.tree import DecisionTreeClassifier\n",
    "from sklearn.neighbors import KNeighborsClassifier\n",
    "from sklearn.ensemble import RandomForestClassifier\n",
    "from sklearn.ensemble import AdaBoostClassifier\n",
    "from sklearn.ensemble import BaggingClassifier\n",
    "from sklearn.ensemble import ExtraTreesClassifier\n",
    "from sklearn.ensemble import GradientBoostingClassifier\n",
    "from xgboost import XGBClassifier"
   ]
  },
  {
   "cell_type": "code",
   "execution_count": 127,
   "id": "b7da807d",
   "metadata": {},
   "outputs": [],
   "source": [
    "svc = SVC(kernel='sigmoid', gamma=1.0)\n",
    "knc = KNeighborsClassifier()\n",
    "mnb = MultinomialNB()\n",
    "dtc = DecisionTreeClassifier(max_depth=5)\n",
    "lrc = LogisticRegression(solver='liblinear', penalty='l1')\n",
    "rfc = RandomForestClassifier(n_estimators=50, random_state=2)\n",
    "abc = AdaBoostClassifier(n_estimators=50, random_state=2)\n",
    "bc = BaggingClassifier(n_estimators=50, random_state=2)\n",
    "etc = ExtraTreesClassifier(n_estimators=50, random_state=2)\n",
    "gbdt = GradientBoostingClassifier(n_estimators=50,random_state=2)\n",
    "xgb = XGBClassifier(n_estimators=50,random_state=2)"
   ]
  },
  {
   "cell_type": "code",
   "execution_count": 128,
   "id": "ed818b2d",
   "metadata": {},
   "outputs": [],
   "source": [
    "clfs = {\n",
    "    'SVC' : svc,\n",
    "    'KN' : knc, \n",
    "    'NB': mnb, \n",
    "    'DT': dtc, \n",
    "    'LR': lrc, \n",
    "    'RF': rfc, \n",
    "    'AdaBoost': abc, \n",
    "    'BgC': bc, \n",
    "    'ETC': etc,\n",
    "    'GBDT':gbdt,\n",
    "    'xgb':xgb\n",
    "}"
   ]
  },
  {
   "cell_type": "code",
   "execution_count": 129,
   "id": "9f1f4a84",
   "metadata": {},
   "outputs": [],
   "source": [
    "def train_classifier(clf,X_train,y_train,X_test,y_test):\n",
    "    clf.fit(X_train,y_train)\n",
    "    y_pred = clf.predict(X_test)\n",
    "    accuracy = accuracy_score(y_test,y_pred)\n",
    "    precision = precision_score(y_test,y_pred)\n",
    "    \n",
    "    return accuracy,precision"
   ]
  },
  {
   "cell_type": "code",
   "execution_count": null,
   "id": "6877e11c",
   "metadata": {},
   "outputs": [],
   "source": []
  }
 ],
 "metadata": {
  "kernelspec": {
   "display_name": "Python 3 (ipykernel)",
   "language": "python",
   "name": "python3"
  },
  "language_info": {
   "codemirror_mode": {
    "name": "ipython",
    "version": 3
   },
   "file_extension": ".py",
   "mimetype": "text/x-python",
   "name": "python",
   "nbconvert_exporter": "python",
   "pygments_lexer": "ipython3",
   "version": "3.11.4"
  }
 },
 "nbformat": 4,
 "nbformat_minor": 5
}
